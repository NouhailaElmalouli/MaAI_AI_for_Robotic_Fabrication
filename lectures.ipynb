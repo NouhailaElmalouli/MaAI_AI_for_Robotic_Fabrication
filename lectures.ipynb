{
 "cells": [
  {
   "cell_type": "markdown",
   "metadata": {},
   "source": [
    "# **CLASS_1**"
   ]
  },
  {
   "cell_type": "markdown",
   "metadata": {},
   "source": [
    "**What good can ai in robotic fabrication do?**"
   ]
  },
  {
   "cell_type": "markdown",
   "metadata": {},
   "source": [
    "1. Make intelligent desicions\n",
    "2. adapt to changes\n",
    "3. optimise fabrication tasks"
   ]
  },
  {
   "cell_type": "markdown",
   "metadata": {},
   "source": [
    "**Do we nned ai in robotic fabrication?**"
   ]
  },
  {
   "cell_type": "markdown",
   "metadata": {},
   "source": [
    "it is usefull for the following applications:\n",
    "1. computer vision for real-time feedback\n",
    "2. Reinforcement learning for adaptive control\n",
    "3. ai driven toolpath optimization\n",
    "4. generative ai for design & fabrication\n",
    "5. HUman-Robot collaboration"
   ]
  },
  {
   "cell_type": "markdown",
   "metadata": {},
   "source": [
    "## Examples of uses of ai in robotic fabrication:"
   ]
  },
  {
   "cell_type": "markdown",
   "metadata": {},
   "source": [
    "**How do you prototype?**\n",
    "\n",
    "What-why-how needs to be answered<br>\n",
    "concepts of operationsdefinition<br>\n",
    "design<br>\n",
    "fabrication<br>\n",
    "\n",
    "**questions to answer:**\n",
    "\n",
    "where do we get the data?<br>\n",
    "how do we test? how do we simulate?<br>"
   ]
  },
  {
   "cell_type": "markdown",
   "metadata": {},
   "source": [
    "it is suggested that we work to get the fabrication data."
   ]
  },
  {
   "cell_type": "markdown",
   "metadata": {},
   "source": [
    "# **CLASS_2**"
   ]
  },
  {
   "cell_type": "markdown",
   "metadata": {},
   "source": [
    "# **CLASS_3**"
   ]
  },
  {
   "cell_type": "markdown",
   "metadata": {},
   "source": [
    "# **PROJECT**"
   ]
  },
  {
   "cell_type": "markdown",
   "metadata": {},
   "source": [
    "## 1. BRAINSTORM AND CHOOSING THE TOPIC"
   ]
  },
  {
   "cell_type": "markdown",
   "metadata": {},
   "source": [
    "1. trasnforming a physiscal object into a dynamic 3d geometry through the use of sensing tools.\n",
    "\n",
    "2. using ml approaches to make autonomous drones that allows them to detect and avoid obstacles.\n",
    "\n",
    "3. use ai to control the coordination of robots: <br>\n",
    "    3.1 use swarms to move objects. <br>\n",
    "    3.2 use swarm to get from point a to point b using coordinaton between the robot caabilities. <br>\n",
    "    3.3 use swarms to get robots to coordinate and build something architectural. <br>\n",
    "\n",
    "4. translating flat drawings into drawings in not planar surfaces."
   ]
  },
  {
   "cell_type": "markdown",
   "metadata": {},
   "source": [
    "**INPUTS**"
   ]
  },
  {
   "cell_type": "markdown",
   "metadata": {},
   "source": [
    "drawing image"
   ]
  },
  {
   "cell_type": "markdown",
   "metadata": {},
   "source": [
    "**AI PROCESSING**"
   ]
  },
  {
   "cell_type": "markdown",
   "metadata": {},
   "source": [
    "**ROBOTIC ACTION**"
   ]
  }
 ],
 "metadata": {
  "language_info": {
   "name": "python"
  }
 },
 "nbformat": 4,
 "nbformat_minor": 2
}
