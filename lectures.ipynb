{
 "cells": [
  {
   "cell_type": "markdown",
   "metadata": {},
   "source": [
    "# **CLASS_1**"
   ]
  },
  {
   "cell_type": "markdown",
   "metadata": {},
   "source": [
    "**What good can ai in robotic fabrication do?**"
   ]
  },
  {
   "cell_type": "markdown",
   "metadata": {},
   "source": [
    "1. Make intelligent desicions\n",
    "2. adapt to changes\n",
    "3. optimise fabrication tasks"
   ]
  },
  {
   "cell_type": "markdown",
   "metadata": {},
   "source": [
    "**Do we nned ai in robotic fabrication?**"
   ]
  },
  {
   "cell_type": "markdown",
   "metadata": {},
   "source": [
    "it is usefull for the following applications:\n",
    "1. computer vision for real-time feedback\n",
    "2. Reinforcement learning for adaptive control\n",
    "3. ai driven toolpath optimization\n",
    "4. generative ai for design & fabrication\n",
    "5. HUman-Robot collaboration"
   ]
  },
  {
   "cell_type": "markdown",
   "metadata": {},
   "source": [
    "## Examples of uses of ai in robotic fabrication:"
   ]
  }
 ],
 "metadata": {
  "language_info": {
   "name": "python"
  }
 },
 "nbformat": 4,
 "nbformat_minor": 2
}
