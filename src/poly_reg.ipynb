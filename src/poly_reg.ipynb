{
 "cells": [
  {
   "cell_type": "markdown",
   "metadata": {},
   "source": [
    "# **Using multivariate polynomial regression to predict joint movement of robotic arm to improve the accuracy of movement simulations.**"
   ]
  },
  {
   "cell_type": "markdown",
   "metadata": {},
   "source": [
    "## Problem statement"
   ]
  },
  {
   "cell_type": "markdown",
   "metadata": {},
   "source": [
    "Write about what we are doing here, why and how..."
   ]
  },
  {
   "cell_type": "markdown",
   "metadata": {},
   "source": [
    "## imports"
   ]
  },
  {
   "cell_type": "code",
   "execution_count": 1,
   "metadata": {},
   "outputs": [],
   "source": [
    "import pandas as pd\n",
    "import numpy as np\n",
    "import matplotlib.pyplot as plt\n",
    "from sklearn.linear_model import LinearRegression\n",
    "from sklearn.preprocessing import PolynomialFeatures"
   ]
  },
  {
   "cell_type": "markdown",
   "metadata": {},
   "source": [
    "## Datasets"
   ]
  },
  {
   "cell_type": "code",
   "execution_count": 4,
   "metadata": {},
   "outputs": [],
   "source": [
    "# loading simulation data\n",
    "\n",
    "sim_df_1 = pd.read_csv('/home/salvador_cb/ai_for_robotic_fabrication/data/digital_output_marcos.csv')\n",
    "sim_df_2 = pd.read_csv('/home/salvador_cb/ai_for_robotic_fabrication/data/digital_output_Yashashvy.csv')\n",
    "\n",
    "# loading data from real robotic movement\n",
    "\n",
    "real_df_1 = pd.read_csv('/home/salvador_cb/ai_for_robotic_fabrication/data/Recording-1-marcos.csv')\n",
    "real_df_2 = pd.read_csv('/home/salvador_cb/ai_for_robotic_fabrication/data/Recording-1-Yashashvy.csv')"
   ]
  },
  {
   "cell_type": "markdown",
   "metadata": {},
   "source": [
    "## Defining features and target"
   ]
  },
  {
   "cell_type": "code",
   "execution_count": 5,
   "metadata": {},
   "outputs": [],
   "source": [
    "X = sim_df_1[['J1', 'J2', 'J3', 'J4', 'J5']].values\n",
    "y = sim_df_1['J6'].values"
   ]
  },
  {
   "cell_type": "code",
   "execution_count": null,
   "metadata": {},
   "outputs": [],
   "source": [
    "poly = PolynomialFeatures(degree=2)\n",
    "X_poly = poly.fit_transform(X)"
   ]
  }
 ],
 "metadata": {
  "kernelspec": {
   "display_name": "poly_reg",
   "language": "python",
   "name": "python3"
  },
  "language_info": {
   "codemirror_mode": {
    "name": "ipython",
    "version": 3
   },
   "file_extension": ".py",
   "mimetype": "text/x-python",
   "name": "python",
   "nbconvert_exporter": "python",
   "pygments_lexer": "ipython3",
   "version": "3.13.2"
  }
 },
 "nbformat": 4,
 "nbformat_minor": 2
}
